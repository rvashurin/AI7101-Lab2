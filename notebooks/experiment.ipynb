{
 "cells": [
  {
   "cell_type": "code",
   "execution_count": null,
   "id": "0",
   "metadata": {},
   "outputs": [],
   "source": [
    "import sys\n",
    "import os\n",
    "\n",
    "sys.path.append(os.path.abspath(\"..\"))"
   ]
  },
  {
   "cell_type": "code",
   "execution_count": null,
   "id": "1",
   "metadata": {},
   "outputs": [],
   "source": [
    "import matplotlib.pyplot as plt\n",
    "from typing import Dict\n",
    "from src.housing import train, eval, load_dataset, set_seed\n",
    "\n",
    "SEED = 1\n",
    "set_seed(SEED)"
   ]
  },
  {
   "cell_type": "code",
   "execution_count": null,
   "id": "2",
   "metadata": {},
   "outputs": [],
   "source": [
    "def plot_results(model: str, result: Dict, out_dir: str = \"figures\"):\n",
    "    os.makedirs(out_dir, exist_ok=True)\n",
    "\n",
    "    plt.figure()\n",
    "    plt.hist(y_test - test_results[\"preds\"], bins=40)\n",
    "    plt.title(\"Residuals (y - y_pred)\")\n",
    "    plt.xlabel(\"Residual\")\n",
    "    plt.ylabel(\"Count\")\n",
    "    plt.tight_layout()\n",
    "    plt.savefig(os.path.join(out_dir, f\"{model}_residuals.png\"))\n",
    "    plt.show()\n",
    "\n",
    "    plt.figure()\n",
    "    plt.scatter(y_test, test_results[\"preds\"], s=6)\n",
    "    plt.title(\"Predicted vs True\")\n",
    "    plt.xlabel(\"True\")\n",
    "    plt.ylabel(\"Pred\")\n",
    "    plt.tight_layout()\n",
    "    plt.savefig(os.path.join(out_dir, f\"{model}_pred_vs_true.png\"))\n",
    "    plt.show()"
   ]
  },
  {
   "cell_type": "code",
   "execution_count": null,
   "id": "3",
   "metadata": {},
   "outputs": [],
   "source": [
    "X_train, X_test, y_train, y_test = load_dataset(test_size=0.2, random_state=SEED)"
   ]
  },
  {
   "cell_type": "markdown",
   "id": "4",
   "metadata": {},
   "source": [
    "### Simple Linear Regression"
   ]
  },
  {
   "cell_type": "code",
   "execution_count": null,
   "id": "5",
   "metadata": {},
   "outputs": [],
   "source": [
    "fitted_gs = train(\"simple_elastic\", X_train, y_train, random_state=SEED)\n",
    "test_results = eval(fitted_gs, X_test, y_test)"
   ]
  },
  {
   "cell_type": "code",
   "execution_count": null,
   "id": "6",
   "metadata": {},
   "outputs": [],
   "source": [
    "print(f\"Best alpha: {test_results['estimator'].alpha}\")\n",
    "print(f\"Best L1 ratio: {test_results['estimator'].l1_ratio}\")\n",
    "print(\"=\" * 30)\n",
    "print(f\"RMSE: {test_results['rmse']:.2f}\")\n",
    "print(f\"MAE: {test_results['mae']:.2f}\")\n",
    "print(f\"R2: {test_results['r2']:.2f}\")"
   ]
  },
  {
   "cell_type": "code",
   "execution_count": null,
   "id": "7",
   "metadata": {},
   "outputs": [],
   "source": [
    "plot_results(\"simple_elastic\", test_results)"
   ]
  },
  {
   "cell_type": "markdown",
   "id": "8",
   "metadata": {},
   "source": [
    "### Polynomial Regression"
   ]
  },
  {
   "cell_type": "code",
   "execution_count": null,
   "id": "9",
   "metadata": {},
   "outputs": [],
   "source": [
    "fitted_gs = train(\"poly_elastic\", X_train, y_train, random_state=SEED)\n",
    "test_results = eval(fitted_gs, X_test, y_test)"
   ]
  },
  {
   "cell_type": "code",
   "execution_count": null,
   "id": "10",
   "metadata": {},
   "outputs": [],
   "source": [
    "print(f\"Best alpha: {test_results['estimator'].alpha}\")\n",
    "print(f\"Best L1 ratio: {test_results['estimator'].l1_ratio}\")\n",
    "print(\"=\" * 30)\n",
    "print(f\"RMSE: {test_results['rmse']:.2f}\")\n",
    "print(f\"MAE: {test_results['mae']:.2f}\")\n",
    "print(f\"R2: {test_results['r2']:.2f}\")"
   ]
  },
  {
   "cell_type": "code",
   "execution_count": null,
   "id": "11",
   "metadata": {},
   "outputs": [],
   "source": [
    "plot_results(\"poly_elastic\", test_results)"
   ]
  },
  {
   "cell_type": "markdown",
   "id": "12",
   "metadata": {},
   "source": [
    "### kNN"
   ]
  },
  {
   "cell_type": "code",
   "execution_count": null,
   "id": "13",
   "metadata": {},
   "outputs": [],
   "source": [
    "fitted_gs = train(\"knn\", X_train, y_train, random_state=SEED)\n",
    "test_results = eval(fitted_gs, X_test, y_test)"
   ]
  },
  {
   "cell_type": "code",
   "execution_count": null,
   "id": "14",
   "metadata": {},
   "outputs": [],
   "source": [
    "print(f\"Best n_neighbors: {test_results['estimator'].n_neighbors}\")\n",
    "print(f\"Best metric: {test_results['estimator'].p}\")\n",
    "print(\"=\" * 30)\n",
    "print(f\"RMSE: {test_results['rmse']:.2f}\")\n",
    "print(f\"MAE: {test_results['mae']:.2f}\")\n",
    "print(f\"R2: {test_results['r2']:.2f}\")"
   ]
  },
  {
   "cell_type": "code",
   "execution_count": null,
   "id": "15",
   "metadata": {},
   "outputs": [],
   "source": [
    "plot_results(\"knn\", test_results)"
   ]
  }
 ],
 "metadata": {
  "kernelspec": {
   "display_name": "Python 3 (ipykernel)",
   "language": "python",
   "name": "python3"
  },
  "language_info": {
   "codemirror_mode": {
    "name": "ipython",
    "version": 3
   },
   "file_extension": ".py",
   "mimetype": "text/x-python",
   "name": "python",
   "nbconvert_exporter": "python",
   "pygments_lexer": "ipython3",
   "version": "3.10.0"
  }
 },
 "nbformat": 4,
 "nbformat_minor": 5
}
