{
 "cells": [
  {
   "cell_type": "code",
   "execution_count": null,
   "id": "0",
   "metadata": {},
   "outputs": [],
   "source": [
    "import sys, os\n",
    "sys.path.append(os.path.abspath(\"..\"))\n",
    "\n",
    "import matplotlib.pyplot as plt\n",
    "from typing import Dict\n",
    "from src.housing import train, eval, load_dataset, set_seed\n",
    "\n",
    "SEED = 1\n",
    "set_seed(SEED)\n",
    "\n",
    "def plot_results(model: str, result: Dict, out_dir: str = \"figures\"):\n",
    "    os.makedirs(out_dir, exist_ok=True)\n",
    "    preds = result[\"preds\"]\n",
    "\n",
    "    plt.figure()\n",
    "    plt.hist(y_test - preds, bins=40)\n",
    "    plt.title(f\"{model}: Residuals (y - y_pred)\")\n",
    "    plt.xlabel(\"Residual\")\n",
    "    plt.ylabel(\"Count\")\n",
    "    plt.tight_layout()\n",
    "    plt.savefig(os.path.join(out_dir, f\"{model}_residuals.png\"))\n",
    "    plt.show()\n",
    "\n",
    "    plt.figure()\n",
    "    plt.scatter(y_test, preds, s=6)\n",
    "    plt.title(f\"{model}: Predicted vs True\")\n",
    "    plt.xlabel(\"True\")\n",
    "    plt.ylabel(\"Pred\")\n",
    "    plt.tight_layout()\n",
    "    plt.savefig(os.path.join(out_dir, f\"{model}_pred_vs_true.png\"))\n",
    "    plt.show()"
   ]
  },
  {
   "cell_type": "code",
   "execution_count": null,
   "id": "1",
   "metadata": {},
   "outputs": [],
   "source": [
    "X_train, X_test, y_train, y_test = load_dataset(test_size=0.2, random_state=SEED)"
   ]
  },
  {
   "cell_type": "code",
   "execution_count": null,
   "id": "2",
   "metadata": {},
   "outputs": [],
   "source": [
    "gs = train(\"simple_elastic\", X_train, y_train, random_state=SEED)\n",
    "res = eval(gs, X_test, y_test)\n",
    "print(\"Best estimator:\", res[\"estimator\"])\n",
    "print(\"=\" * 30)\n",
    "print(f\"RMSE: {res['rmse']:.3f}\")\n",
    "print(f\"MAE:  {res['mae']:.3f}\")\n",
    "print(f\"R2:   {res['r2']:.3f}\")\n",
    "plot_results(\"simple_elastic\", res, out_dir=\"figures\")"
   ]
  },
  {
   "cell_type": "code",
   "execution_count": null,
   "id": "3",
   "metadata": {},
   "outputs": [],
   "source": [
    "gs = train(\"poly_elastic\", X_train, y_train, random_state=SEED)\n",
    "res = eval(gs, X_test, y_test)\n",
    "print(\"Best estimator:\", res[\"estimator\"])\n",
    "print(\"=\" * 30)\n",
    "print(f\"RMSE: {res['rmse']:.3f}\")\n",
    "print(f\"MAE:  {res['mae']:.3f}\")\n",
    "print(f\"R2:   {res['r2']:.3f}\")\n",
    "plot_results(\"poly_elastic\", res, out_dir=\"figures\")"
   ]
  },
  {
   "cell_type": "code",
   "execution_count": null,
   "id": "4",
   "metadata": {},
   "outputs": [],
   "source": [
    "gs = train(\"poly3_elastic\", X_train, y_train, random_state=SEED)\n",
    "res = eval(gs, X_test, y_test)\n",
    "print(\"Best estimator:\", res[\"estimator\"])\n",
    "print(\"=\" * 30)\n",
    "print(f\"RMSE: {res['rmse']:.3f}\")\n",
    "print(f\"MAE:  {res['mae']:.3f}\")\n",
    "print(f\"R2:   {res['r2']:.3f}\")\n",
    "plot_results(\"poly3_elastic\", res, out_dir=\"figures\")"
   ]
  },
  {
   "cell_type": "code",
   "execution_count": null,
   "id": "5",
   "metadata": {},
   "outputs": [],
   "source": [
    "gs = train(\"knn\", X_train, y_train, random_state=SEED)\n",
    "res = eval(gs, X_test, y_test)\n",
    "print(\"Best estimator:\", res[\"estimator\"])\n",
    "print(\"=\" * 30)\n",
    "print(f\"RMSE: {res['rmse']:.3f}\")\n",
    "print(f\"MAE:  {res['mae']:.3f}\")\n",
    "print(f\"R2:   {res['r2']:.3f}\")\n",
    "plot_results(\"knn\", res, out_dir=\"figures\")"
   ]
  }
 ],
 "metadata": {
  "kernelspec": {
   "display_name": "Python (ml-lab1)",
   "language": "python",
   "name": "ml-lab1"
  },
  "language_info": {
   "codemirror_mode": {
    "name": "ipython",
    "version": 3
   },
   "file_extension": ".py",
   "mimetype": "text/x-python",
   "name": "python",
   "nbconvert_exporter": "python",
   "pygments_lexer": "ipython3",
   "version": "3.11.13"
  }
 },
 "nbformat": 4,
 "nbformat_minor": 5
}
